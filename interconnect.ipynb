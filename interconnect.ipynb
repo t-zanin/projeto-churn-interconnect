{
 "cells": [
  {
   "cell_type": "markdown",
   "metadata": {},
   "source": [
    "# Serviços da Interconnect\n",
    "\n",
    "A Interconnect fornece principalmente dois tipos de serviços:\n",
    "\n",
    "1. Telefonia fixa. O telefone pode ser conectado a várias linhas ao mesmo tempo.\n",
    "2. Internet. A rede pode ser estabelecida através de uma linha telefônica (DSL, *digital subscriber line - linha digital de assinante*) ou através de um cabo de fibra óptica.\n",
    "\n",
    "Alguns outros serviços fornecidos pela empresa incluem:\n",
    "\n",
    "- Segurança na Internet: software de antivírus (*DeviceProtection* - proteção de dispositivos) e um bloqueador de sites maliciosos (*OnlineSecurity* - segurança online).\n",
    "- Uma linha dedicada de suporte técnico (*TechSupport*).\n",
    "- Armazenamento de arquivos na nuvem e backup de dados (*OnlineBackup*).\n",
    "- Streaming de TV (*StreamingTV*) e um diretório de filmes (*StreamingMovies*).\n",
    "\n",
    "Os clientes podem escolher entre fazer um pagamento mensal e assinar um contrato de 1 ou 2 anos. Eles podem usar vários métodos de pagamento e receber uma fatura eletrônica após a transação."
   ]
  },
  {
   "cell_type": "code",
   "execution_count": 24,
   "metadata": {},
   "outputs": [],
   "source": [
    "# Imports\n",
    "\n",
    "import pandas as pd\n",
    "import numpy as np\n",
    "import matplotlib.pyplot as plt\n",
    "import seaborn as sns\n",
    "from sklearn.model_selection import train_test_split\n",
    "from sklearn.ensemble import RandomForestClassifier\n",
    "from sklearn.metrics import roc_auc_score\n",
    "from xgboost import XGBClassifier"
   ]
  },
  {
   "cell_type": "code",
   "execution_count": 6,
   "metadata": {},
   "outputs": [],
   "source": [
    "# Carregue os arquivos de dados em diferentes DataFrames\n",
    "\n",
    "contract = pd.read_csv('contract.csv')\n",
    "personal = pd.read_csv('personal.csv')\n",
    "internet = pd.read_csv('internet.csv')\n",
    "phone = pd.read_csv('phone.csv') "
   ]
  },
  {
   "cell_type": "markdown",
   "metadata": {},
   "source": [
    "## DF Contract"
   ]
  },
  {
   "cell_type": "code",
   "execution_count": 7,
   "metadata": {},
   "outputs": [
    {
     "name": "stdout",
     "output_type": "stream",
     "text": [
      "<class 'pandas.core.frame.DataFrame'>\n",
      "RangeIndex: 7043 entries, 0 to 7042\n",
      "Data columns (total 8 columns):\n",
      " #   Column            Non-Null Count  Dtype  \n",
      "---  ------            --------------  -----  \n",
      " 0   customerID        7043 non-null   object \n",
      " 1   BeginDate         7043 non-null   object \n",
      " 2   EndDate           7043 non-null   object \n",
      " 3   Type              7043 non-null   object \n",
      " 4   PaperlessBilling  7043 non-null   object \n",
      " 5   PaymentMethod     7043 non-null   object \n",
      " 6   MonthlyCharges    7043 non-null   float64\n",
      " 7   TotalCharges      7043 non-null   object \n",
      "dtypes: float64(1), object(7)\n",
      "memory usage: 440.3+ KB\n",
      "None\n",
      "\n",
      "   customerID   BeginDate              EndDate            Type  \\\n",
      "0  7590-VHVEG  2020-01-01                   No  Month-to-month   \n",
      "1  5575-GNVDE  2017-04-01                   No        One year   \n",
      "2  3668-QPYBK  2019-10-01  2019-12-01 00:00:00  Month-to-month   \n",
      "3  7795-CFOCW  2016-05-01                   No        One year   \n",
      "4  9237-HQITU  2019-09-01  2019-11-01 00:00:00  Month-to-month   \n",
      "\n",
      "  PaperlessBilling              PaymentMethod  MonthlyCharges TotalCharges  \n",
      "0              Yes           Electronic check           29.85        29.85  \n",
      "1               No               Mailed check           56.95       1889.5  \n",
      "2              Yes               Mailed check           53.85       108.15  \n",
      "3               No  Bank transfer (automatic)           42.30      1840.75  \n",
      "4              Yes           Electronic check           70.70       151.65  \n",
      "\n",
      "customerID          0\n",
      "BeginDate           0\n",
      "EndDate             0\n",
      "Type                0\n",
      "PaperlessBilling    0\n",
      "PaymentMethod       0\n",
      "MonthlyCharges      0\n",
      "TotalCharges        0\n",
      "dtype: int64\n",
      "\n",
      "0\n"
     ]
    }
   ],
   "source": [
    "# Imprima informações gerais/resumo sobre o DataFrame Contract\n",
    "\n",
    "print(contract.info())\n",
    "print()\n",
    "print(contract.head())\n",
    "print() \n",
    "print(contract.isnull().sum()) # Verificar valores ausentes\n",
    "print()\n",
    "print(contract.duplicated().sum()) # verificar valores duplicados"
   ]
  },
  {
   "cell_type": "markdown",
   "metadata": {},
   "source": [
    "### Tratando os dados 'contract'"
   ]
  },
  {
   "cell_type": "code",
   "execution_count": 8,
   "metadata": {},
   "outputs": [
    {
     "name": "stdout",
     "output_type": "stream",
     "text": [
      "<class 'pandas.core.frame.DataFrame'>\n",
      "RangeIndex: 7043 entries, 0 to 7042\n",
      "Data columns (total 8 columns):\n",
      " #   Column             Non-Null Count  Dtype         \n",
      "---  ------             --------------  -----         \n",
      " 0   customer_id        7043 non-null   object        \n",
      " 1   begin_date         7043 non-null   datetime64[ns]\n",
      " 2   end_date           1869 non-null   datetime64[ns]\n",
      " 3   type               7043 non-null   object        \n",
      " 4   paperless_billing  7043 non-null   object        \n",
      " 5   payment_method     7043 non-null   object        \n",
      " 6   monthly_charges    7043 non-null   float64       \n",
      " 7   total_charges      7032 non-null   float64       \n",
      "dtypes: datetime64[ns](2), float64(2), object(4)\n",
      "memory usage: 440.3+ KB\n",
      "None\n",
      "customer_id                  object\n",
      "begin_date           datetime64[ns]\n",
      "end_date             datetime64[ns]\n",
      "type                         object\n",
      "paperless_billing            object\n",
      "payment_method               object\n",
      "monthly_charges             float64\n",
      "total_charges               float64\n",
      "dtype: object\n"
     ]
    },
    {
     "name": "stderr",
     "output_type": "stream",
     "text": [
      "C:\\Users\\Thiago\\AppData\\Local\\Temp\\ipykernel_5284\\643186060.py:15: UserWarning: Could not infer format, so each element will be parsed individually, falling back to `dateutil`. To ensure parsing is consistent and as-expected, please specify a format.\n",
      "  contract['end_date'] = pd.to_datetime(contract['end_date'], errors='coerce')\n"
     ]
    }
   ],
   "source": [
    "# Renomear colunas para snake_case\n",
    "contract.columns = [\n",
    "    'customer_id',\n",
    "    'begin_date',\n",
    "    'end_date',\n",
    "    'type',\n",
    "    'paperless_billing',\n",
    "    'payment_method',\n",
    "    'monthly_charges',\n",
    "    'total_charges'\n",
    "]\n",
    "\n",
    "# Converter BeginDate e EndDate para datetime\n",
    "contract['begin_date'] = pd.to_datetime(contract['begin_date'], errors='coerce')\n",
    "contract['end_date'] = pd.to_datetime(contract['end_date'], errors='coerce')\n",
    "\n",
    "# Converter TotalCharges para float\n",
    "contract['total_charges'] = pd.to_numeric(contract['total_charges'], errors='coerce')\n",
    "\n",
    "print(contract.info())\n",
    "# Verificar os tipos de dados após conversão\n",
    "print(contract.dtypes)"
   ]
  },
  {
   "cell_type": "code",
   "execution_count": 9,
   "metadata": {},
   "outputs": [
    {
     "name": "stdout",
     "output_type": "stream",
     "text": [
      "0\n"
     ]
    }
   ],
   "source": [
    "# Imputar NaN em total_charges com 0\n",
    "contract['total_charges'] = contract['total_charges'].fillna(0)\n",
    "\n",
    "# Verificar valores ausentes após conversão\n",
    "print(contract['total_charges'].isnull().sum())"
   ]
  },
  {
   "cell_type": "markdown",
   "metadata": {},
   "source": [
    "## DF 'Personal'"
   ]
  },
  {
   "cell_type": "code",
   "execution_count": 10,
   "metadata": {},
   "outputs": [
    {
     "name": "stdout",
     "output_type": "stream",
     "text": [
      "<class 'pandas.core.frame.DataFrame'>\n",
      "RangeIndex: 7043 entries, 0 to 7042\n",
      "Data columns (total 5 columns):\n",
      " #   Column         Non-Null Count  Dtype \n",
      "---  ------         --------------  ----- \n",
      " 0   customerID     7043 non-null   object\n",
      " 1   gender         7043 non-null   object\n",
      " 2   SeniorCitizen  7043 non-null   int64 \n",
      " 3   Partner        7043 non-null   object\n",
      " 4   Dependents     7043 non-null   object\n",
      "dtypes: int64(1), object(4)\n",
      "memory usage: 275.2+ KB\n",
      "None\n",
      "\n",
      "   customerID  gender  SeniorCitizen Partner Dependents\n",
      "0  7590-VHVEG  Female              0     Yes         No\n",
      "1  5575-GNVDE    Male              0      No         No\n",
      "2  3668-QPYBK    Male              0      No         No\n",
      "3  7795-CFOCW    Male              0      No         No\n",
      "4  9237-HQITU  Female              0      No         No\n",
      "\n",
      "customerID       0\n",
      "gender           0\n",
      "SeniorCitizen    0\n",
      "Partner          0\n",
      "Dependents       0\n",
      "dtype: int64\n",
      "\n",
      "0\n"
     ]
    }
   ],
   "source": [
    "# Imprima informações gerais/resumo sobre o DataFrame Personal\n",
    "\n",
    "print(personal.info())\n",
    "print()\n",
    "print(personal.head())\n",
    "print() \n",
    "print(personal.isnull().sum()) # Verificar valores ausentes\n",
    "print()\n",
    "print(personal.duplicated().sum()) # verificar valores duplicados"
   ]
  },
  {
   "cell_type": "markdown",
   "metadata": {},
   "source": [
    "### Tratando os dados 'personal'"
   ]
  },
  {
   "cell_type": "code",
   "execution_count": 11,
   "metadata": {},
   "outputs": [
    {
     "name": "stdout",
     "output_type": "stream",
     "text": [
      "Nomes das colunas após renomeação:\n",
      "Index(['customer_id', 'gender', 'senior_citizen', 'partner', 'dependents'], dtype='object')\n"
     ]
    }
   ],
   "source": [
    "# Renomear colunas para snake_case\n",
    "personal.columns = ['customer_id', 'gender', 'senior_citizen', 'partner', 'dependents']\n",
    "\n",
    "# Verificar os novos nomes das colunas\n",
    "print(\"Nomes das colunas após renomeação:\")\n",
    "print(personal.columns)"
   ]
  },
  {
   "cell_type": "markdown",
   "metadata": {},
   "source": [
    "## DF 'Internet'"
   ]
  },
  {
   "cell_type": "code",
   "execution_count": 12,
   "metadata": {},
   "outputs": [
    {
     "name": "stdout",
     "output_type": "stream",
     "text": [
      "<class 'pandas.core.frame.DataFrame'>\n",
      "RangeIndex: 5517 entries, 0 to 5516\n",
      "Data columns (total 8 columns):\n",
      " #   Column            Non-Null Count  Dtype \n",
      "---  ------            --------------  ----- \n",
      " 0   customerID        5517 non-null   object\n",
      " 1   InternetService   5517 non-null   object\n",
      " 2   OnlineSecurity    5517 non-null   object\n",
      " 3   OnlineBackup      5517 non-null   object\n",
      " 4   DeviceProtection  5517 non-null   object\n",
      " 5   TechSupport       5517 non-null   object\n",
      " 6   StreamingTV       5517 non-null   object\n",
      " 7   StreamingMovies   5517 non-null   object\n",
      "dtypes: object(8)\n",
      "memory usage: 344.9+ KB\n",
      "None\n",
      "\n",
      "   customerID InternetService OnlineSecurity OnlineBackup DeviceProtection  \\\n",
      "0  7590-VHVEG             DSL             No          Yes               No   \n",
      "1  5575-GNVDE             DSL            Yes           No              Yes   \n",
      "2  3668-QPYBK             DSL            Yes          Yes               No   \n",
      "3  7795-CFOCW             DSL            Yes           No              Yes   \n",
      "4  9237-HQITU     Fiber optic             No           No               No   \n",
      "\n",
      "  TechSupport StreamingTV StreamingMovies  \n",
      "0          No          No              No  \n",
      "1          No          No              No  \n",
      "2          No          No              No  \n",
      "3         Yes          No              No  \n",
      "4          No          No              No  \n",
      "\n",
      "customerID          0\n",
      "InternetService     0\n",
      "OnlineSecurity      0\n",
      "OnlineBackup        0\n",
      "DeviceProtection    0\n",
      "TechSupport         0\n",
      "StreamingTV         0\n",
      "StreamingMovies     0\n",
      "dtype: int64\n",
      "\n",
      "0\n"
     ]
    }
   ],
   "source": [
    "# Imprima informações gerais/resumo sobre o DataFrame Internet\n",
    "\n",
    "print(internet.info())\n",
    "print()\n",
    "print(internet.head())\n",
    "print() \n",
    "print(internet.isnull().sum()) # Verificar valores ausentes\n",
    "print()\n",
    "print(internet.duplicated().sum()) # verificar valores duplicados"
   ]
  },
  {
   "cell_type": "markdown",
   "metadata": {},
   "source": [
    "### Tratando os dados 'internet'"
   ]
  },
  {
   "cell_type": "code",
   "execution_count": 13,
   "metadata": {},
   "outputs": [
    {
     "name": "stdout",
     "output_type": "stream",
     "text": [
      "<class 'pandas.core.frame.DataFrame'>\n",
      "RangeIndex: 5517 entries, 0 to 5516\n",
      "Data columns (total 8 columns):\n",
      " #   Column             Non-Null Count  Dtype \n",
      "---  ------             --------------  ----- \n",
      " 0   customer_id        5517 non-null   object\n",
      " 1   internet_service   5517 non-null   object\n",
      " 2   online_security    5517 non-null   object\n",
      " 3   online_backup      5517 non-null   object\n",
      " 4   device_protection  5517 non-null   object\n",
      " 5   tech_support       5517 non-null   object\n",
      " 6   streaming_tv       5517 non-null   object\n",
      " 7   streaming_movies   5517 non-null   object\n",
      "dtypes: object(8)\n",
      "memory usage: 344.9+ KB\n",
      "None\n"
     ]
    }
   ],
   "source": [
    "# Renomear colunas para snake_case\n",
    "internet.columns = ['customer_id', \n",
    "                    'internet_service',\n",
    "                    'online_security', \n",
    "                    'online_backup', \n",
    "                    'device_protection', \n",
    "                    'tech_support',\n",
    "                    'streaming_tv',\n",
    "                    'streaming_movies'\n",
    "                   ]\n",
    "\n",
    "print(internet.info())"
   ]
  },
  {
   "cell_type": "markdown",
   "metadata": {},
   "source": [
    "## DF 'phone'"
   ]
  },
  {
   "cell_type": "code",
   "execution_count": 14,
   "metadata": {},
   "outputs": [
    {
     "name": "stdout",
     "output_type": "stream",
     "text": [
      "<class 'pandas.core.frame.DataFrame'>\n",
      "RangeIndex: 6361 entries, 0 to 6360\n",
      "Data columns (total 2 columns):\n",
      " #   Column         Non-Null Count  Dtype \n",
      "---  ------         --------------  ----- \n",
      " 0   customerID     6361 non-null   object\n",
      " 1   MultipleLines  6361 non-null   object\n",
      "dtypes: object(2)\n",
      "memory usage: 99.5+ KB\n",
      "None\n",
      "\n",
      "   customerID MultipleLines\n",
      "0  5575-GNVDE            No\n",
      "1  3668-QPYBK            No\n",
      "2  9237-HQITU            No\n",
      "3  9305-CDSKC           Yes\n",
      "4  1452-KIOVK           Yes\n",
      "\n",
      "customerID       0\n",
      "MultipleLines    0\n",
      "dtype: int64\n",
      "\n",
      "0\n"
     ]
    }
   ],
   "source": [
    "# Imprima informações gerais/resumo sobre o DataFrame phone\n",
    "\n",
    "print(phone.info())\n",
    "print()\n",
    "print(phone.head())\n",
    "print() \n",
    "print(phone.isnull().sum()) # Verificar valores ausentes\n",
    "print()\n",
    "print(phone.duplicated().sum()) # verificar valores duplicados"
   ]
  },
  {
   "cell_type": "markdown",
   "metadata": {},
   "source": [
    "### Tratando os dados 'phone'"
   ]
  },
  {
   "cell_type": "code",
   "execution_count": 15,
   "metadata": {},
   "outputs": [
    {
     "name": "stdout",
     "output_type": "stream",
     "text": [
      "Nomes das colunas após renomeação:\n",
      "Index(['customer_id', 'multiple_lines'], dtype='object')\n"
     ]
    }
   ],
   "source": [
    "# Renomear colunas para snake_case\n",
    "phone.columns = ['customer_id', 'multiple_lines']\n",
    "\n",
    "# Verificar os novos nomes das colunas\n",
    "print(\"Nomes das colunas após renomeação:\")\n",
    "print(phone.columns)"
   ]
  },
  {
   "cell_type": "markdown",
   "metadata": {},
   "source": [
    "### Finalizando a Limpeza e Confirmando Valores Únicos"
   ]
  },
  {
   "cell_type": "code",
   "execution_count": 16,
   "metadata": {},
   "outputs": [
    {
     "name": "stdout",
     "output_type": "stream",
     "text": [
      "Valores únicos em multiple_lines (phone.csv):\n",
      "multiple_lines\n",
      "No     3390\n",
      "Yes    2971\n",
      "Name: count, dtype: int64\n",
      "\n",
      "Valores únicos nas colunas categóricas do internet.csv:\n",
      "\n",
      "internet_service: ['DSL' 'Fiber optic']\n",
      "\n",
      "online_security: ['No' 'Yes']\n",
      "\n",
      "online_backup: ['Yes' 'No']\n",
      "\n",
      "device_protection: ['No' 'Yes']\n",
      "\n",
      "tech_support: ['No' 'Yes']\n",
      "\n",
      "streaming_tv: ['No' 'Yes']\n",
      "\n",
      "streaming_movies: ['No' 'Yes']\n",
      "\n",
      "Valores únicos de churn (contract.csv):\n",
      "churn\n",
      "0    5174\n",
      "1    1869\n",
      "Name: count, dtype: int64\n"
     ]
    }
   ],
   "source": [
    "# Verificar valores únicos em multiple_lines (phone.csv)\n",
    "print(\"Valores únicos em multiple_lines (phone.csv):\")\n",
    "print(phone['multiple_lines'].value_counts())\n",
    "\n",
    "# Verificar valores únicos nas colunas categóricas do internet.csv\n",
    "print(\"\\nValores únicos nas colunas categóricas do internet.csv:\")\n",
    "for col in internet.columns[1:]:  # Ignorar customer_id\n",
    "    print(f\"\\n{col}: {internet[col].unique()}\")\n",
    "\n",
    "# Criar coluna churn em contract.csv\n",
    "contract['churn'] = contract['end_date'].notna().astype(int)\n",
    "print(\"\\nValores únicos de churn (contract.csv):\")\n",
    "print(contract['churn'].value_counts())"
   ]
  },
  {
   "cell_type": "markdown",
   "metadata": {},
   "source": [
    "### Juntando os DataFrames e Tratando Valores Ausentes"
   ]
  },
  {
   "cell_type": "code",
   "execution_count": 17,
   "metadata": {},
   "outputs": [
    {
     "name": "stdout",
     "output_type": "stream",
     "text": [
      "<class 'pandas.core.frame.DataFrame'>\n",
      "RangeIndex: 7043 entries, 0 to 7042\n",
      "Data columns (total 21 columns):\n",
      " #   Column             Non-Null Count  Dtype         \n",
      "---  ------             --------------  -----         \n",
      " 0   customer_id        7043 non-null   object        \n",
      " 1   begin_date         7043 non-null   datetime64[ns]\n",
      " 2   end_date           1869 non-null   datetime64[ns]\n",
      " 3   type               7043 non-null   object        \n",
      " 4   paperless_billing  7043 non-null   object        \n",
      " 5   payment_method     7043 non-null   object        \n",
      " 6   monthly_charges    7043 non-null   float64       \n",
      " 7   total_charges      7043 non-null   float64       \n",
      " 8   churn              7043 non-null   int32         \n",
      " 9   gender             7043 non-null   object        \n",
      " 10  senior_citizen     7043 non-null   int64         \n",
      " 11  partner            7043 non-null   object        \n",
      " 12  dependents         7043 non-null   object        \n",
      " 13  internet_service   7043 non-null   object        \n",
      " 14  online_security    7043 non-null   object        \n",
      " 15  online_backup      7043 non-null   object        \n",
      " 16  device_protection  7043 non-null   object        \n",
      " 17  tech_support       7043 non-null   object        \n",
      " 18  streaming_tv       7043 non-null   object        \n",
      " 19  streaming_movies   7043 non-null   object        \n",
      " 20  multiple_lines     7043 non-null   object        \n",
      "dtypes: datetime64[ns](2), float64(2), int32(1), int64(1), object(15)\n",
      "memory usage: 1.1+ MB\n",
      "None\n",
      "\n",
      "customer_id             0\n",
      "begin_date              0\n",
      "end_date             5174\n",
      "type                    0\n",
      "paperless_billing       0\n",
      "payment_method          0\n",
      "monthly_charges         0\n",
      "total_charges           0\n",
      "churn                   0\n",
      "gender                  0\n",
      "senior_citizen          0\n",
      "partner                 0\n",
      "dependents              0\n",
      "internet_service        0\n",
      "online_security         0\n",
      "online_backup           0\n",
      "device_protection       0\n",
      "tech_support            0\n",
      "streaming_tv            0\n",
      "streaming_movies        0\n",
      "multiple_lines          0\n",
      "dtype: int64\n",
      "\n",
      "  customer_id begin_date   end_date            type paperless_billing  \\\n",
      "0  7590-VHVEG 2020-01-01        NaT  Month-to-month               Yes   \n",
      "1  5575-GNVDE 2017-04-01        NaT        One year                No   \n",
      "2  3668-QPYBK 2019-10-01 2019-12-01  Month-to-month               Yes   \n",
      "3  7795-CFOCW 2016-05-01        NaT        One year                No   \n",
      "4  9237-HQITU 2019-09-01 2019-11-01  Month-to-month               Yes   \n",
      "\n",
      "              payment_method  monthly_charges  total_charges  churn  gender  \\\n",
      "0           Electronic check            29.85          29.85      0  Female   \n",
      "1               Mailed check            56.95        1889.50      0    Male   \n",
      "2               Mailed check            53.85         108.15      1    Male   \n",
      "3  Bank transfer (automatic)            42.30        1840.75      0    Male   \n",
      "4           Electronic check            70.70         151.65      1  Female   \n",
      "\n",
      "   ...  partner dependents internet_service online_security online_backup  \\\n",
      "0  ...      Yes         No              DSL              No           Yes   \n",
      "1  ...       No         No              DSL             Yes            No   \n",
      "2  ...       No         No              DSL             Yes           Yes   \n",
      "3  ...       No         No              DSL             Yes            No   \n",
      "4  ...       No         No      Fiber optic              No            No   \n",
      "\n",
      "  device_protection tech_support streaming_tv streaming_movies multiple_lines  \n",
      "0                No           No           No               No             No  \n",
      "1               Yes           No           No               No             No  \n",
      "2                No           No           No               No             No  \n",
      "3               Yes          Yes           No               No             No  \n",
      "4                No           No           No               No             No  \n",
      "\n",
      "[5 rows x 21 columns]\n"
     ]
    }
   ],
   "source": [
    "# Juntar os DataFrames com left join\n",
    "df = contract.merge(personal, on='customer_id', how='left')\n",
    "df = df.merge(internet, on='customer_id', how='left')\n",
    "df = df.merge(phone, on='customer_id', how='left')\n",
    "\n",
    "# Preencher valores ausentes nas colunas de internet e phone\n",
    "internet_cols = ['online_security', 'online_backup', 'device_protection', \n",
    "                'tech_support', 'streaming_tv', 'streaming_movies']\n",
    "for col in internet_cols:\n",
    "    df[col] = df[col].fillna('No')\n",
    "\n",
    "# Para internet_service, preencher com 'None' (indica sem serviço de internet)\n",
    "df['internet_service'] = df['internet_service'].fillna('None')\n",
    "\n",
    "# Para multiple_lines, preencher com 'No'\n",
    "df['multiple_lines'] = df['multiple_lines'].fillna('No')\n",
    "\n",
    "# Verificar o DataFrame resultante\n",
    "print(df.info())\n",
    "print()\n",
    "print(df.isnull().sum())\n",
    "print()\n",
    "print(df.head())"
   ]
  },
  {
   "cell_type": "markdown",
   "metadata": {},
   "source": [
    "### Análise Exploratória com Gráficos"
   ]
  },
  {
   "cell_type": "code",
   "execution_count": 18,
   "metadata": {},
   "outputs": [
    {
     "name": "stdout",
     "output_type": "stream",
     "text": [
      "Estatísticas de contract_duration:\n",
      "count    7043.000000\n",
      "mean      985.996166\n",
      "std       747.587844\n",
      "min         0.000000\n",
      "25%       273.000000\n",
      "50%       883.000000\n",
      "75%      1676.000000\n",
      "max      2191.000000\n",
      "Name: contract_duration, dtype: float64\n"
     ]
    },
    {
     "data": {
      "image/png": "[encoded data removed]",
      "text/plain": [
       "<Figure size 600x400 with 1 Axes>"
      ]
     },
     "metadata": {},
     "output_type": "display_data"
    },
    {
     "data": {
      "image/png": "[encoded data removed]",
      "text/plain": [
       "<Figure size 800x400 with 1 Axes>"
      ]
     },
     "metadata": {},
     "output_type": "display_data"
    },
    {
     "data": {
      "image/png": "[encoded data removed]",
      "text/plain": [
       "<Figure size 800x400 with 1 Axes>"
      ]
     },
     "metadata": {},
     "output_type": "display_data"
    },
    {
     "data": {
      "image/png": "[encoded data removed]",
      "text/plain": [
       "<Figure size 800x400 with 1 Axes>"
      ]
     },
     "metadata": {},
     "output_type": "display_data"
    }
   ],
   "source": [
    "# Criar feature: duração do contrato (em dias)\n",
    "df['contract_duration'] = np.where(\n",
    "    df['end_date'].isna(),\n",
    "    (pd.to_datetime('2020-02-01') - df['begin_date']).dt.days,\n",
    "    (df['end_date'] - df['begin_date']).dt.days\n",
    ")\n",
    "\n",
    "# Verificar a nova coluna\n",
    "print(\"Estatísticas de contract_duration:\")\n",
    "print(df['contract_duration'].describe())\n",
    "\n",
    "# Gráfico 1: Distribuição de churn\n",
    "plt.figure(figsize=(6, 4))\n",
    "sns.countplot(x='churn', data=df)\n",
    "plt.title('Distribuição de Churn')\n",
    "plt.xlabel('Churn (0 = Não, 1 = Sim)')\n",
    "plt.ylabel('Contagem')\n",
    "plt.show()\n",
    "\n",
    "# Gráfico 2: Monthly Charges por Churn\n",
    "plt.figure(figsize=(8, 4))\n",
    "sns.boxplot(x='churn', y='monthly_charges', data=df)\n",
    "plt.title('Monthly Charges por Churn')\n",
    "plt.xlabel('Churn (0 = Não, 1 = Sim)')\n",
    "plt.ylabel('Monthly Charges')\n",
    "plt.show()\n",
    "\n",
    "# Gráfico 3: Type por Churn\n",
    "plt.figure(figsize=(8, 4))\n",
    "sns.countplot(x='type', hue='churn', data=df)\n",
    "plt.title('Type por Churn')\n",
    "plt.xlabel('Tipo de Contrato')\n",
    "plt.ylabel('Contagem')\n",
    "plt.show()\n",
    "\n",
    "# Gráfico 4: Contract Duration por Churn\n",
    "plt.figure(figsize=(8, 4))\n",
    "sns.histplot(data=df, x='contract_duration', hue='churn', bins=30, kde=True)\n",
    "plt.title('Duração do Contrato por Churn')\n",
    "plt.xlabel('Duração do Contrato (dias)')\n",
    "plt.ylabel('Contagem')\n",
    "plt.show()"
   ]
  },
  {
   "cell_type": "markdown",
   "metadata": {},
   "source": [
    "### Criando Features e Aplicar One-Hot Encoding"
   ]
  },
  {
   "cell_type": "code",
   "execution_count": 19,
   "metadata": {},
   "outputs": [
    {
     "name": "stdout",
     "output_type": "stream",
     "text": [
      "Estatísticas de is_new_customer:\n",
      "is_new_customer\n",
      "0    5981\n",
      "1    1062\n",
      "Name: count, dtype: int64\n",
      "Index(['customer_id', 'begin_date', 'end_date', 'monthly_charges',\n",
      "       'total_charges', 'churn', 'senior_citizen', 'contract_duration',\n",
      "       'is_new_customer', 'type_One year', 'type_Two year',\n",
      "       'paperless_billing_Yes', 'payment_method_Credit card (automatic)',\n",
      "       'payment_method_Electronic check', 'payment_method_Mailed check',\n",
      "       'gender_Male', 'partner_Yes', 'dependents_Yes',\n",
      "       'internet_service_Fiber optic', 'internet_service_None',\n",
      "       'online_security_Yes', 'online_backup_Yes', 'device_protection_Yes',\n",
      "       'tech_support_Yes', 'streaming_tv_Yes', 'streaming_movies_Yes',\n",
      "       'multiple_lines_Yes'],\n",
      "      dtype='object')\n",
      "\n",
      "  customer_id begin_date   end_date  monthly_charges  total_charges  churn  \\\n",
      "0  7590-VHVEG 2020-01-01        NaT            29.85          29.85      0   \n",
      "1  5575-GNVDE 2017-04-01        NaT            56.95        1889.50      0   \n",
      "2  3668-QPYBK 2019-10-01 2019-12-01            53.85         108.15      1   \n",
      "3  7795-CFOCW 2016-05-01        NaT            42.30        1840.75      0   \n",
      "4  9237-HQITU 2019-09-01 2019-11-01            70.70         151.65      1   \n",
      "\n",
      "   senior_citizen  contract_duration  is_new_customer  type_One year  ...  \\\n",
      "0               0               31.0                1          False  ...   \n",
      "1               0             1036.0                0           True  ...   \n",
      "2               0               61.0                1          False  ...   \n",
      "3               0             1371.0                0           True  ...   \n",
      "4               0               61.0                1          False  ...   \n",
      "\n",
      "   dependents_Yes  internet_service_Fiber optic  internet_service_None  \\\n",
      "0           False                         False                  False   \n",
      "1           False                         False                  False   \n",
      "2           False                         False                  False   \n",
      "3           False                         False                  False   \n",
      "4           False                          True                  False   \n",
      "\n",
      "   online_security_Yes  online_backup_Yes  device_protection_Yes  \\\n",
      "0                False               True                  False   \n",
      "1                 True              False                   True   \n",
      "2                 True               True                  False   \n",
      "3                 True              False                   True   \n",
      "4                False              False                  False   \n",
      "\n",
      "   tech_support_Yes  streaming_tv_Yes  streaming_movies_Yes  \\\n",
      "0             False             False                 False   \n",
      "1             False             False                 False   \n",
      "2             False             False                 False   \n",
      "3              True             False                 False   \n",
      "4             False             False                 False   \n",
      "\n",
      "   multiple_lines_Yes  \n",
      "0               False  \n",
      "1               False  \n",
      "2               False  \n",
      "3               False  \n",
      "4               False  \n",
      "\n",
      "[5 rows x 27 columns]\n"
     ]
    }
   ],
   "source": [
    "# Criar feature: clientes novos (contract_duration < 100 dias)\n",
    "df['is_new_customer'] = (df['contract_duration'] < 100).astype(int)\n",
    "\n",
    "# Verificar a nova feature\n",
    "print(\"Estatísticas de is_new_customer:\")\n",
    "print(df['is_new_customer'].value_counts())\n",
    "\n",
    "# Aplicar one-hot encoding nas colunas categóricas\n",
    "columns_to_encode = [\n",
    "    'type', 'paperless_billing', 'payment_method', 'gender', 'partner',\n",
    "    'dependents', 'internet_service', 'online_security', 'online_backup',\n",
    "    'device_protection', 'tech_support', 'streaming_tv', 'streaming_movies',\n",
    "    'multiple_lines'\n",
    "]\n",
    "df_encoded = pd.get_dummies(df, columns=columns_to_encode, drop_first=True)\n",
    "\n",
    "# Verificar o DataFrame após encoding\n",
    "print(df_encoded.columns)\n",
    "print()\n",
    "print(df_encoded.head())"
   ]
  },
  {
   "cell_type": "markdown",
   "metadata": {},
   "source": [
    "### Desenvolver e Avaliar o Modelo de Churn"
   ]
  },
  {
   "cell_type": "code",
   "execution_count": 20,
   "metadata": {},
   "outputs": [
    {
     "name": "stdout",
     "output_type": "stream",
     "text": [
      "AUC-ROC Score: 0.8643\n",
      "                                   feature  importance\n",
      "3                        contract_duration    0.205406\n",
      "1                            total_charges    0.179724\n",
      "0                          monthly_charges    0.164705\n",
      "14            internet_service_Fiber optic    0.043005\n",
      "9          payment_method_Electronic check    0.038236\n",
      "6                            type_Two year    0.032310\n",
      "4                          is_new_customer    0.025543\n",
      "11                             gender_Male    0.025252\n",
      "7                    paperless_billing_Yes    0.024753\n",
      "16                     online_security_Yes    0.022955\n",
      "12                             partner_Yes    0.022426\n",
      "2                           senior_citizen    0.020613\n",
      "17                       online_backup_Yes    0.020570\n",
      "19                        tech_support_Yes    0.020326\n",
      "5                            type_One year    0.020087\n",
      "22                      multiple_lines_Yes    0.019754\n",
      "13                          dependents_Yes    0.018723\n",
      "18                   device_protection_Yes    0.018351\n",
      "21                    streaming_movies_Yes    0.018264\n",
      "20                        streaming_tv_Yes    0.017216\n",
      "15                   internet_service_None    0.016883\n",
      "10             payment_method_Mailed check    0.012501\n",
      "8   payment_method_Credit card (automatic)    0.012396\n"
     ]
    }
   ],
   "source": [
    "# Separar features e alvo\n",
    "features = df_encoded.drop(columns=['customer_id', 'begin_date', 'end_date', 'churn'])\n",
    "target = df_encoded['churn']\n",
    "\n",
    "# Dividir em treino e teste (80% treino, 20% teste)\n",
    "X_train, X_test, y_train, y_test = train_test_split(features, target, test_size=0.2, random_state=42)\n",
    "\n",
    "# Treinar o modelo Random Forest\n",
    "model = RandomForestClassifier(random_state=42)\n",
    "model.fit(X_train, y_train)\n",
    "\n",
    "# Prever probabilidades no teste\n",
    "y_pred_proba = model.predict_proba(X_test)[:, 1]\n",
    "\n",
    "# Calcular AUC-ROC\n",
    "auc_roc = roc_auc_score(y_test, y_pred_proba)\n",
    "print(f\"AUC-ROC Score: {auc_roc:.4f}\")\n",
    "\n",
    "# Verificar importância das features\n",
    "feature_importance = pd.DataFrame({\n",
    "    'feature': features.columns,\n",
    "    'importance': model.feature_importances_\n",
    "}).sort_values('importance', ascending=False)\n",
    "\n",
    "print(feature_importance)"
   ]
  },
  {
   "cell_type": "markdown",
   "metadata": {},
   "source": [
    "### Criar Novas Variáveis"
   ]
  },
  {
   "cell_type": "code",
   "execution_count": 21,
   "metadata": {},
   "outputs": [
    {
     "name": "stdout",
     "output_type": "stream",
     "text": [
      "Estatísticas de num_services:\n",
      "count    7043.000000\n",
      "mean        2.459747\n",
      "std         2.045539\n",
      "min         0.000000\n",
      "25%         1.000000\n",
      "50%         2.000000\n",
      "75%         4.000000\n",
      "max         7.000000\n",
      "Name: num_services, dtype: float64\n",
      "\n",
      "Estatísticas de avg_ticket_per_service:\n",
      "count    7043.000000\n",
      "mean       29.660407\n",
      "std        17.139612\n",
      "min        10.416667\n",
      "25%        19.500000\n",
      "50%        23.350000\n",
      "75%        31.666667\n",
      "max        81.950000\n",
      "Name: avg_ticket_per_service, dtype: float64\n"
     ]
    }
   ],
   "source": [
    "# Criar variável de quantidade de serviços\n",
    "service_cols = ['online_security', 'online_backup', 'device_protection', \n",
    "                'tech_support', 'streaming_tv', 'streaming_movies', 'multiple_lines']\n",
    "df['num_services'] = df[service_cols].apply(lambda x: x.eq('Yes').sum(), axis=1)\n",
    "\n",
    "# Criar variável de ticket médio por serviço\n",
    "df['avg_ticket_per_service'] = np.where(df['num_services'] > 0, \n",
    "                                       df['monthly_charges'] / df['num_services'], \n",
    "                                       df['monthly_charges'])\n",
    "\n",
    "# Verificar as novas colunas\n",
    "print(\"Estatísticas de num_services:\")\n",
    "print(df['num_services'].describe())\n",
    "print(\"\\nEstatísticas de avg_ticket_per_service:\")\n",
    "print(df['avg_ticket_per_service'].describe())"
   ]
  },
  {
   "cell_type": "markdown",
   "metadata": {},
   "source": [
    "### Aplicar One-Hot Encoding Atualizado"
   ]
  },
  {
   "cell_type": "code",
   "execution_count": 23,
   "metadata": {},
   "outputs": [
    {
     "name": "stdout",
     "output_type": "stream",
     "text": [
      "Index(['monthly_charges', 'total_charges', 'churn', 'senior_citizen',\n",
      "       'contract_duration', 'is_new_customer', 'num_services',\n",
      "       'avg_ticket_per_service', 'type_One year', 'type_Two year',\n",
      "       'paperless_billing_Yes', 'payment_method_Credit card (automatic)',\n",
      "       'payment_method_Electronic check', 'payment_method_Mailed check',\n",
      "       'gender_Male', 'partner_Yes', 'dependents_Yes',\n",
      "       'internet_service_Fiber optic', 'internet_service_None',\n",
      "       'online_security_Yes', 'online_backup_Yes', 'device_protection_Yes',\n",
      "       'tech_support_Yes', 'streaming_tv_Yes', 'streaming_movies_Yes',\n",
      "       'multiple_lines_Yes'],\n",
      "      dtype='object')\n"
     ]
    }
   ],
   "source": [
    "# Aplicar one-hot encoding nas colunas categóricas\n",
    "columns_to_encode = [\n",
    "    'type', 'paperless_billing', 'payment_method', 'gender', 'partner',\n",
    "    'dependents', 'internet_service', 'online_security', 'online_backup',\n",
    "    'device_protection', 'tech_support', 'streaming_tv', 'streaming_movies',\n",
    "    'multiple_lines'\n",
    "]\n",
    "df_encoded = pd.get_dummies(df, columns=columns_to_encode, drop_first=True)\n",
    "\n",
    "# Incluir as novas features\n",
    "df_encoded = df_encoded.drop(columns=['customer_id', 'begin_date', 'end_date'])\n",
    "df_encoded['num_services'] = df['num_services']\n",
    "df_encoded['avg_ticket_per_service'] = df['avg_ticket_per_service']\n",
    "\n",
    "# Verificar as colunas\n",
    "print(df_encoded.columns)"
   ]
  },
  {
   "cell_type": "code",
   "execution_count": 26,
   "metadata": {},
   "outputs": [
    {
     "name": "stdout",
     "output_type": "stream",
     "text": [
      "Scale_pos_weight: 2.77\n",
      "AUC-ROC Score (XGBoost): 0.9286\n"
     ]
    }
   ],
   "source": [
    "# Separar features e alvo\n",
    "features = df_encoded.drop(columns=['churn'])\n",
    "target = df_encoded['churn']\n",
    "\n",
    "# Dividir em treino e teste\n",
    "X_train, X_test, y_train, y_test = train_test_split(features, target, test_size=0.2, random_state=42)\n",
    "\n",
    "# Calcular scale_pos_weight (proporção de não churn / churn)\n",
    "scale_pos_weight = (y_train.value_counts()[0] / y_train.value_counts()[1])\n",
    "print(f\"Scale_pos_weight: {scale_pos_weight:.2f}\")\n",
    "\n",
    "# Treinar XGBoost\n",
    "xgb_model = XGBClassifier(scale_pos_weight=scale_pos_weight, random_state=42)\n",
    "xgb_model.fit(X_train, y_train)\n",
    "\n",
    "# Prever probabilidades\n",
    "y_pred_proba_xgb = xgb_model.predict_proba(X_test)[:, 1]\n",
    "\n",
    "# Calcular AUC-ROC\n",
    "auc_roc_xgb = roc_auc_score(y_test, y_pred_proba_xgb)\n",
    "print(f\"AUC-ROC Score (XGBoost): {auc_roc_xgb:.4f}\")"
   ]
  },
  {
   "cell_type": "code",
   "execution_count": null,
   "metadata": {},
   "outputs": [],
   "source": []
  },
  {
   "cell_type": "markdown",
   "metadata": {},
   "source": [
    "# Conclusão"
   ]
  },
  {
   "cell_type": "markdown",
   "metadata": {},
   "source": [
    "### Relatório da Solução - Previsão de Churn para Interconnect\n",
    "\n",
    "#### Quais passos do plano foram executados e quais foram pulados? Explique o motivo.\n",
    "Todos os cinco passos do plano foram executados:\n",
    "1. Juntar e pré-processar os DataFrames: Combinamos contract, personal, internet e phone com left join, tratando valores ausentes com 'No' ou 'None'.\n",
    "2. Realizar análise exploratória com gráficos: Identificamos padrões como maior churn em clientes novos e com contratos Month-to-month.\n",
    "3. Criar features para o modelo: Geramos contract_duration, is_new_customer, num_services e avg_ticket_per_service, aplicando one-hot encoding nas categóricas.\n",
    "4. Desenvolver e avaliar o modelo de churn: Treinamos um XGBoost com AUC-ROC de 0.9286, superando o Random Forest inicial (0.8643).\n",
    "5. Preparar relatório com conclusões: Este documento resume os passos e resultados.\n",
    "Nenhum passo foi pulado, pois seguimos o plano rigorosamente pra atender aos requisitos do sprint.\n",
    "\n",
    "#### Quais dificuldades você encontrou e como conseguiu resolvê-las?\n",
    "- **Dificuldade 1: internet.csv incorreto inicialmente**: O arquivo tinha 149396 linhas com dados de uso, não serviços. Resolvida com a confirmação do líder, que forneceu o arquivo correto (5517 linhas).\n",
    "- **Dificuldade 2: Erro nos gráficos (ValueError 'churn')**: Ocorreu porque a coluna churn não estava no DataFrame merged. Resolvida criando a coluna churn em contract antes do merge.\n",
    "- **Dificuldade 3: Desbalanceamento de churn (~73% não churn)**: Identificado na EDA, resolvido ajustando o peso com scale_pos_weight (~2.77) no XGBoost, melhorando o AUC.\n",
    "Essas dificuldades foram superadas com ajustes no código e diálogo com o líder.\n",
    "\n",
    "#### Quais foram as etapas principais de resolução da tarefa?\n",
    "1. **Carregamento e limpeza dos dados**: Renomeamos colunas, convertemos tipos (datetime, float) e tratamos valores ausentes.\n",
    "2. **Análise exploratória**: Gerei gráficos (churn, monthly_charges, type, duration) pra identificar padrões de churn.\n",
    "3. **Pré-processamento e feature engineering**: Juntando os DataFrames, criei contract_duration, is_new_customer, num_services e avg_ticket_per_service, aplicando one-hot encoding.\n",
    "4. **Modelagem**: Treinei um XGBoost com scale_pos_weight, alcançando AUC-ROC de 0.9286.\n",
    "5. **Documentação**: Preparamos este relatório com insights e recomendações pra Interconnect.\n",
    "\n",
    "#### Qual é seu modelo final e qual pontuação de qualidade ele tem?\n",
    "O modelo final é um XGBoost Classifier treinado com 80% dos dados e testado com 20%, usando features como contract_duration, num_services, avg_ticket_per_service e monthly_charges, com scale_pos_weight de 2.77 pra ajustar o desbalanceamento. A pontuação de qualidade é AUC-ROC de 0.9286, indicando excelente capacidade de prever churn.\n",
    "\n",
    "#### Conclusão para a Interconnect\n",
    "Clientes novos com contratos Month-to-month, monthly_charges altos e ticket médio elevado por serviço são os mais propensos ao churn. Clientes com mais serviços (média de 2-3) e ticket médio baixo (~23) tendem a ter menor rotatividade. Recomenda-se oferecer códigos promocionais, pacotes de streaming grátis por um ou dois meses, ou planos anuais/bienais com descontos nos primeiros 100 dias, priorizando clientes com poucos serviços ou custos altos por serviço pra reter e fidelizar."
   ]
  }
 ],
 "metadata": {
  "kernelspec": {
   "display_name": "Python 3",
   "language": "python",
   "name": "python3"
  },
  "language_info": {
   "codemirror_mode": {
    "name": "ipython",
    "version": 3
   },
   "file_extension": ".py",
   "mimetype": "text/x-python",
   "name": "python",
   "nbconvert_exporter": "python",
   "pygments_lexer": "ipython3",
   "version": "3.11.5"
  }
 },
 "nbformat": 4,
 "nbformat_minor": 4
}
